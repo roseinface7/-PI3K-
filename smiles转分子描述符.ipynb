{
 "cells": [
  {
   "cell_type": "code",
   "execution_count": 3,
   "id": "d8ea7918-61a5-4d74-8661-fa819418b322",
   "metadata": {},
   "outputs": [
    {
     "name": "stdout",
     "output_type": "stream",
     "text": [
      "分子描述符已保存到 D:\\回归数据\\chemblpi3k分子描述符.csv\n"
     ]
    }
   ],
   "source": [
    "import pandas as pd\n",
    "from rdkit import Chem\n",
    "from rdkit.Chem import Descriptors\n",
    "\n",
    "# 读取CSV文件\n",
    "input_file = r\"D:\\回归数据\\chemblpi3k.csv\"  # 输入文件路径\n",
    "output_file = \"D:\\回归数据\\chemblpi3k分子描述符.csv\"  # 输出文件路径\n",
    "df = pd.read_csv(input_file, encoding='gbk')\n",
    "\n",
    "# 定义一个函数来计算每个分子的描述符\n",
    "def calculate_descriptors(smiles):\n",
    "    mol = Chem.MolFromSmiles(smiles)\n",
    "    if mol is not None:\n",
    "        descriptors = {}\n",
    "        for desc_name, desc_func in Descriptors.descList:\n",
    "            try:\n",
    "                descriptors[desc_name] = desc_func(mol)\n",
    "            except:\n",
    "                descriptors[desc_name] = None\n",
    "        return descriptors\n",
    "    else:\n",
    "        return None\n",
    "\n",
    "# 将SMILES转换为描述符\n",
    "descriptors_list = []\n",
    "for smiles in df['smiles']:\n",
    "    descriptors = calculate_descriptors(smiles)\n",
    "    if descriptors:\n",
    "        descriptors_list.append(descriptors)\n",
    "    else:\n",
    "        descriptors_list.append({desc[0]: None for desc in Descriptors.descList})\n",
    "\n",
    "# 将描述符转换为DataFrame\n",
    "descriptors_df = pd.DataFrame(descriptors_list)\n",
    "\n",
    "# 将原始的 pIC50 列和描述符合并\n",
    "# 保留原始的 'pIC50' 列\n",
    "descriptors_df['pIC50'] = df['pIC50']\n",
    "\n",
    "# 将结果保存为CSV文件\n",
    "descriptors_df.to_csv(output_file, index=False)\n",
    "\n",
    "print(f\"分子描述符已保存到 {output_file}\")\n"
   ]
  },
  {
   "cell_type": "code",
   "execution_count": null,
   "id": "6dac4fd3-6a89-448c-bbe8-2cd8b9f1adac",
   "metadata": {},
   "outputs": [],
   "source": []
  }
 ],
 "metadata": {
  "kernelspec": {
   "display_name": "Python 3 (ipykernel)",
   "language": "python",
   "name": "python3"
  },
  "language_info": {
   "codemirror_mode": {
    "name": "ipython",
    "version": 3
   },
   "file_extension": ".py",
   "mimetype": "text/x-python",
   "name": "python",
   "nbconvert_exporter": "python",
   "pygments_lexer": "ipython3",
   "version": "3.9.15"
  }
 },
 "nbformat": 4,
 "nbformat_minor": 5
}
